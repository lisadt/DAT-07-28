{
 "cells": [
  {
   "cell_type": "markdown",
   "metadata": {
    "slideshow": {
     "slide_type": "slide"
    }
   },
   "source": [
    "### GBM & Classification"
   ]
  },
  {
   "cell_type": "markdown",
   "metadata": {
    "slideshow": {
     "slide_type": "slide"
    }
   },
   "source": [
    "Welcome to today's class!  In this lesson we'll continue our discussion of modeling on tabular data, but we're going to extend our toolbelt in two different ways:\n",
    "\n",
    " - We're going to work with a **classification** problem, as opposed to a regression problem\n",
    " - We're going to work with a **more advanced** gradient boosted model that will give us superior results"
   ]
  },
  {
   "cell_type": "markdown",
   "metadata": {
    "slideshow": {
     "slide_type": "slide"
    }
   },
   "source": [
    "### Classification:\n",
    "\n",
    " - The target variable is a categorical variable, as opposed to a numeric one\n",
    " - Therefore we are predicting **probability**, rather than a raw number\n",
    " \n",
    " <img src=\"gbm1.JPG\"></img>"
   ]
  },
  {
   "cell_type": "markdown",
   "metadata": {
    "slideshow": {
     "slide_type": "slide"
    }
   },
   "source": [
    "### Predicted Values Look Like This\n",
    "\n",
    "<img src=\"gbm2.jpg\"></img>"
   ]
  },
  {
   "cell_type": "markdown",
   "metadata": {
    "slideshow": {
     "slide_type": "slide"
    }
   },
   "source": [
    "### How Is Classification Different?\n",
    "\n",
    "Common issues when dealing with classification:\n",
    "\n",
    " - How well does your model handle each of the individual classes?\n",
    " - What if your dataset is very lopsided?  (ie, 99.5 % of the samples belong to a particular class?)\n",
    " - What metric can you use to gauge how you're doing across all possible classes? (Accuracy is not always the best metric)"
   ]
  },
  {
   "cell_type": "markdown",
   "metadata": {
    "slideshow": {
     "slide_type": "slide"
    }
   },
   "source": [
    "### Some Common Solutions:\n",
    "\n",
    " - You assign different weights to different classes\n",
    "   - ie, you make success or failure count more, depending on which one you care most about\n",
    " - You use **stratified** cross validation -- equal proportion of classes in every single split\n",
    " - Different error metrics do a better job of blending how you do in predicting each class, for both positive and negative outcomes"
   ]
  },
  {
   "cell_type": "markdown",
   "metadata": {
    "slideshow": {
     "slide_type": "slide"
    }
   },
   "source": [
    "### Why Move Past Scikit Learn?\n",
    "\n",
    " - Great Library\n",
    " - Very well engineered, clean API\n",
    " - Covers Lots of useful areas of ML\n",
    " - Has a few weaknesses:\n",
    "  - Doesn't make the best use of modern computing architectures\n",
    "  - Doesn't run on a GPU\n",
    "  - ML moves so fast that more advanced techniques crop up faster than can be implemented into the main library\n",
    "  - Beginning to suffer from the craigslist effect\n",
    "  \n",
    "<img src=\"gbm3.jpg\"></img>"
   ]
  },
  {
   "cell_type": "markdown",
   "metadata": {
    "slideshow": {
     "slide_type": "slide"
    }
   },
   "source": [
    "### Enter XGBoost\n",
    "\n",
    "<img src=\"gbm4.png\"></img>\n",
    "\n",
    " - Specialized gradient boosting library built in 2014\n",
    " - Has many advantages over Scikit-Learn implementation:\n",
    "  - Does not need missing values imputed\n",
    "  - ~ 30 % faster due to ability of trees to be created across multiple computers\n",
    "  - Runs on GPU\n",
    "  - Uses different splitting criteria that give it more accurate results\n",
    " - Has a Scikit-Learn wrapper to make the coding exactly the same\n",
    " - Most commonly used GBM implementation among companies doing production level ML"
   ]
  },
  {
   "cell_type": "markdown",
   "metadata": {
    "slideshow": {
     "slide_type": "slide"
    }
   },
   "source": [
    "### Our Task:  What Are The Chances of Your Kickstarter Campaign Being Funded?"
   ]
  },
  {
   "cell_type": "code",
   "execution_count": 120,
   "metadata": {
    "slideshow": {
     "slide_type": "slide"
    }
   },
   "outputs": [],
   "source": [
    "# let's import libraries\n",
    "import xgboost as xgb\n",
    "import numpy as np\n",
    "import pandas as pd\n",
    "from sklearn.ensemble import GradientBoostingClassifier\n",
    "# this is the file you should've gotten from your repo\n",
    "from utils import extract_dates, get_val_scores\n",
    "from category_encoders import OrdinalEncoder, OneHotEncoder\n",
    "from sklearn.pipeline import make_pipeline\n",
    "from sklearn.model_selection import cross_val_score, train_test_split"
   ]
  },
  {
   "cell_type": "code",
   "execution_count": 112,
   "metadata": {
    "scrolled": true,
    "slideshow": {
     "slide_type": "slide"
    }
   },
   "outputs": [
    {
     "data": {
      "text/html": [
       "<div>\n",
       "<style scoped>\n",
       "    .dataframe tbody tr th:only-of-type {\n",
       "        vertical-align: middle;\n",
       "    }\n",
       "\n",
       "    .dataframe tbody tr th {\n",
       "        vertical-align: top;\n",
       "    }\n",
       "\n",
       "    .dataframe thead th {\n",
       "        text-align: right;\n",
       "    }\n",
       "</style>\n",
       "<table border=\"1\" class=\"dataframe\">\n",
       "  <thead>\n",
       "    <tr style=\"text-align: right;\">\n",
       "      <th></th>\n",
       "      <th>ID</th>\n",
       "      <th>name</th>\n",
       "      <th>category</th>\n",
       "      <th>main_category</th>\n",
       "      <th>currency</th>\n",
       "      <th>deadline</th>\n",
       "      <th>launched</th>\n",
       "      <th>state</th>\n",
       "      <th>country</th>\n",
       "      <th>goal</th>\n",
       "    </tr>\n",
       "  </thead>\n",
       "  <tbody>\n",
       "    <tr>\n",
       "      <th>0</th>\n",
       "      <td>1000002330</td>\n",
       "      <td>The Songs of Adelaide &amp; Abullah</td>\n",
       "      <td>Poetry</td>\n",
       "      <td>Publishing</td>\n",
       "      <td>GBP</td>\n",
       "      <td>2015-10-09</td>\n",
       "      <td>2015-08-11 12:12:28</td>\n",
       "      <td>failed</td>\n",
       "      <td>GB</td>\n",
       "      <td>1533.95</td>\n",
       "    </tr>\n",
       "    <tr>\n",
       "      <th>1</th>\n",
       "      <td>1000003930</td>\n",
       "      <td>Greeting From Earth: ZGAC Arts Capsule For ET</td>\n",
       "      <td>Narrative Film</td>\n",
       "      <td>Film &amp; Video</td>\n",
       "      <td>USD</td>\n",
       "      <td>2017-11-01</td>\n",
       "      <td>2017-09-02 04:43:57</td>\n",
       "      <td>failed</td>\n",
       "      <td>US</td>\n",
       "      <td>30000.00</td>\n",
       "    </tr>\n",
       "    <tr>\n",
       "      <th>2</th>\n",
       "      <td>1000004038</td>\n",
       "      <td>Where is Hank?</td>\n",
       "      <td>Narrative Film</td>\n",
       "      <td>Film &amp; Video</td>\n",
       "      <td>USD</td>\n",
       "      <td>2013-02-26</td>\n",
       "      <td>2013-01-12 00:20:50</td>\n",
       "      <td>failed</td>\n",
       "      <td>US</td>\n",
       "      <td>45000.00</td>\n",
       "    </tr>\n",
       "    <tr>\n",
       "      <th>3</th>\n",
       "      <td>1000007540</td>\n",
       "      <td>ToshiCapital Rekordz Needs Help to Complete Album</td>\n",
       "      <td>Music</td>\n",
       "      <td>Music</td>\n",
       "      <td>USD</td>\n",
       "      <td>2012-04-16</td>\n",
       "      <td>2012-03-17 03:24:11</td>\n",
       "      <td>failed</td>\n",
       "      <td>US</td>\n",
       "      <td>5000.00</td>\n",
       "    </tr>\n",
       "    <tr>\n",
       "      <th>4</th>\n",
       "      <td>1000011046</td>\n",
       "      <td>Community Film Project: The Art of Neighborhoo...</td>\n",
       "      <td>Film &amp; Video</td>\n",
       "      <td>Film &amp; Video</td>\n",
       "      <td>USD</td>\n",
       "      <td>2015-08-29</td>\n",
       "      <td>2015-07-04 08:35:03</td>\n",
       "      <td>failed</td>\n",
       "      <td>US</td>\n",
       "      <td>19500.00</td>\n",
       "    </tr>\n",
       "  </tbody>\n",
       "</table>\n",
       "</div>"
      ],
      "text/plain": [
       "           ID                                               name  \\\n",
       "0  1000002330                    The Songs of Adelaide & Abullah   \n",
       "1  1000003930      Greeting From Earth: ZGAC Arts Capsule For ET   \n",
       "2  1000004038                                     Where is Hank?   \n",
       "3  1000007540  ToshiCapital Rekordz Needs Help to Complete Album   \n",
       "4  1000011046  Community Film Project: The Art of Neighborhoo...   \n",
       "\n",
       "         category main_category currency   deadline            launched  \\\n",
       "0          Poetry    Publishing      GBP 2015-10-09 2015-08-11 12:12:28   \n",
       "1  Narrative Film  Film & Video      USD 2017-11-01 2017-09-02 04:43:57   \n",
       "2  Narrative Film  Film & Video      USD 2013-02-26 2013-01-12 00:20:50   \n",
       "3           Music         Music      USD 2012-04-16 2012-03-17 03:24:11   \n",
       "4    Film & Video  Film & Video      USD 2015-08-29 2015-07-04 08:35:03   \n",
       "\n",
       "    state country      goal  \n",
       "0  failed      GB   1533.95  \n",
       "1  failed      US  30000.00  \n",
       "2  failed      US  45000.00  \n",
       "3  failed      US   5000.00  \n",
       "4  failed      US  19500.00  "
      ]
     },
     "execution_count": 112,
     "metadata": {},
     "output_type": "execute_result"
    }
   ],
   "source": [
    "df = pd.read_csv('ks2.csv', encoding='utf-8', parse_dates=['deadline', 'launched'])\n",
    "df.head()"
   ]
  },
  {
   "cell_type": "markdown",
   "metadata": {
    "slideshow": {
     "slide_type": "slide"
    }
   },
   "source": [
    "### What We're Going To Do:\n",
    "\n",
    " - Refine our technique for building, validating, and visualizing models\n",
    " - Get practice going over some techniques covered in Unit 2  - grouping, merging, summary statistics, etc\n",
    " - Get a first look at XGBoost and how it compares to SKLearn"
   ]
  },
  {
   "cell_type": "code",
   "execution_count": 3,
   "metadata": {
    "slideshow": {
     "slide_type": "slide"
    }
   },
   "outputs": [],
   "source": [
    "# first, let's take a look at a function we're going to use today\n",
    "??extract_dates"
   ]
  },
  {
   "cell_type": "code",
   "execution_count": 3,
   "metadata": {
    "slideshow": {
     "slide_type": "slide"
    }
   },
   "outputs": [
    {
     "data": {
      "text/plain": [
       "Index(['ID', 'name', 'category', 'main_category', 'currency', 'deadline',\n",
       "       'launched', 'state', 'country', 'goal', 'deadline_dayofweek',\n",
       "       'deadline_dayofyear', 'deadline_days_in_month', 'deadline_is_leap_year',\n",
       "       'deadline_is_month_end', 'deadline_is_month_start',\n",
       "       'deadline_is_quarter_end', 'deadline_is_quarter_start',\n",
       "       'deadline_is_year_end', 'deadline_is_year_start', 'deadline_quarter',\n",
       "       'deadline_week', 'deadline_weekofyear', 'deadline_day', 'deadline_hour',\n",
       "       'deadline_minute', 'deadline_month', 'deadline_year',\n",
       "       'launched_dayofweek', 'launched_dayofyear', 'launched_days_in_month',\n",
       "       'launched_is_leap_year', 'launched_is_month_end',\n",
       "       'launched_is_month_start', 'launched_is_quarter_end',\n",
       "       'launched_is_quarter_start', 'launched_is_year_end',\n",
       "       'launched_is_year_start', 'launched_quarter', 'launched_week',\n",
       "       'launched_weekofyear', 'launched_day', 'launched_hour',\n",
       "       'launched_minute', 'launched_month', 'launched_year',\n",
       "       'deadline_history_days', 'launched_history_days'],\n",
       "      dtype='object')"
      ]
     },
     "execution_count": 3,
     "metadata": {},
     "output_type": "execute_result"
    }
   ],
   "source": [
    "# this will pull out every possible date part of every date column within your dataset\n",
    "df = extract_dates(df)\n",
    "df.columns"
   ]
  },
  {
   "cell_type": "code",
   "execution_count": 4,
   "metadata": {
    "slideshow": {
     "slide_type": "slide"
    }
   },
   "outputs": [],
   "source": [
    "# let's initialize our XGB model \n",
    "mod1 = xgb.XGBClassifier()"
   ]
  },
  {
   "cell_type": "code",
   "execution_count": 6,
   "metadata": {
    "slideshow": {
     "slide_type": "slide"
    }
   },
   "outputs": [
    {
     "data": {
      "text/plain": [
       "{'base_score': 0.5,\n",
       " 'booster': 'gbtree',\n",
       " 'colsample_bylevel': 1,\n",
       " 'colsample_bynode': 1,\n",
       " 'colsample_bytree': 1,\n",
       " 'gamma': 0,\n",
       " 'learning_rate': 0.1,\n",
       " 'max_delta_step': 0,\n",
       " 'max_depth': 3,\n",
       " 'min_child_weight': 1,\n",
       " 'missing': None,\n",
       " 'n_estimators': 100,\n",
       " 'n_jobs': 1,\n",
       " 'nthread': None,\n",
       " 'objective': 'binary:logistic',\n",
       " 'random_state': 0,\n",
       " 'reg_alpha': 0,\n",
       " 'reg_lambda': 1,\n",
       " 'scale_pos_weight': 1,\n",
       " 'seed': None,\n",
       " 'silent': None,\n",
       " 'subsample': 1,\n",
       " 'verbosity': 1}"
      ]
     },
     "execution_count": 6,
     "metadata": {},
     "output_type": "execute_result"
    }
   ],
   "source": [
    "# this is the Scikit-Learn wrapper -- syntax is exactly the same as what we've used before\n",
    "mod1.get_params()"
   ]
  },
  {
   "cell_type": "code",
   "execution_count": 5,
   "metadata": {
    "slideshow": {
     "slide_type": "slide"
    }
   },
   "outputs": [],
   "source": [
    "# let's go ahead and create a pipeline\n",
    "pipe = make_pipeline(OrdinalEncoder(), mod1)"
   ]
  },
  {
   "cell_type": "code",
   "execution_count": 6,
   "metadata": {
    "slideshow": {
     "slide_type": "slide"
    }
   },
   "outputs": [],
   "source": [
    "# let's do an initial checking of our validation set\n",
    "X = df.drop(['deadline', 'launched', 'state'], axis=1)\n",
    "y = df['state']"
   ]
  },
  {
   "cell_type": "code",
   "execution_count": 9,
   "metadata": {
    "slideshow": {
     "slide_type": "slide"
    }
   },
   "outputs": [],
   "source": [
    "# let's take a look at the arguments we can use for get_val_scores\n",
    "?get_val_scores"
   ]
  },
  {
   "cell_type": "code",
   "execution_count": 7,
   "metadata": {
    "slideshow": {
     "slide_type": "slide"
    }
   },
   "outputs": [],
   "source": [
    "# get an initial score for our model, with feature importances\n",
    "scores = get_val_scores(pipe, X, y, return_test_score=True, random_state=1985, stratify=True, use_kfold=False)"
   ]
  },
  {
   "cell_type": "code",
   "execution_count": 9,
   "metadata": {
    "slideshow": {
     "slide_type": "slide"
    }
   },
   "outputs": [
    {
     "data": {
      "text/plain": [
       "{'validation_score': 0.6857085013412515, 'test_score': 0.6892874978067511}"
      ]
     },
     "execution_count": 9,
     "metadata": {},
     "output_type": "execute_result"
    }
   ],
   "source": [
    "# the validation scores look good\n",
    "scores"
   ]
  },
  {
   "cell_type": "code",
   "execution_count": 8,
   "metadata": {
    "slideshow": {
     "slide_type": "slide"
    }
   },
   "outputs": [
    {
     "data": {
      "text/html": [
       "<div>\n",
       "<style scoped>\n",
       "    .dataframe tbody tr th:only-of-type {\n",
       "        vertical-align: middle;\n",
       "    }\n",
       "\n",
       "    .dataframe tbody tr th {\n",
       "        vertical-align: top;\n",
       "    }\n",
       "\n",
       "    .dataframe thead th {\n",
       "        text-align: right;\n",
       "    }\n",
       "</style>\n",
       "<table border=\"1\" class=\"dataframe\">\n",
       "  <thead>\n",
       "    <tr style=\"text-align: right;\">\n",
       "      <th></th>\n",
       "      <th>Importance</th>\n",
       "      <th>Column</th>\n",
       "    </tr>\n",
       "  </thead>\n",
       "  <tbody>\n",
       "    <tr>\n",
       "      <th>6</th>\n",
       "      <td>0.207080</td>\n",
       "      <td>goal</td>\n",
       "    </tr>\n",
       "    <tr>\n",
       "      <th>43</th>\n",
       "      <td>0.102636</td>\n",
       "      <td>deadline_history_days</td>\n",
       "    </tr>\n",
       "    <tr>\n",
       "      <th>2</th>\n",
       "      <td>0.093736</td>\n",
       "      <td>category</td>\n",
       "    </tr>\n",
       "    <tr>\n",
       "      <th>3</th>\n",
       "      <td>0.083528</td>\n",
       "      <td>main_category</td>\n",
       "    </tr>\n",
       "    <tr>\n",
       "      <th>39</th>\n",
       "      <td>0.063676</td>\n",
       "      <td>launched_hour</td>\n",
       "    </tr>\n",
       "    <tr>\n",
       "      <th>40</th>\n",
       "      <td>0.062726</td>\n",
       "      <td>launched_minute</td>\n",
       "    </tr>\n",
       "    <tr>\n",
       "      <th>7</th>\n",
       "      <td>0.051011</td>\n",
       "      <td>deadline_dayofweek</td>\n",
       "    </tr>\n",
       "    <tr>\n",
       "      <th>4</th>\n",
       "      <td>0.049180</td>\n",
       "      <td>currency</td>\n",
       "    </tr>\n",
       "    <tr>\n",
       "      <th>44</th>\n",
       "      <td>0.043757</td>\n",
       "      <td>launched_history_days</td>\n",
       "    </tr>\n",
       "    <tr>\n",
       "      <th>9</th>\n",
       "      <td>0.037466</td>\n",
       "      <td>deadline_days_in_month</td>\n",
       "    </tr>\n",
       "    <tr>\n",
       "      <th>25</th>\n",
       "      <td>0.033637</td>\n",
       "      <td>launched_dayofweek</td>\n",
       "    </tr>\n",
       "    <tr>\n",
       "      <th>18</th>\n",
       "      <td>0.023120</td>\n",
       "      <td>deadline_week</td>\n",
       "    </tr>\n",
       "    <tr>\n",
       "      <th>26</th>\n",
       "      <td>0.022566</td>\n",
       "      <td>launched_dayofyear</td>\n",
       "    </tr>\n",
       "    <tr>\n",
       "      <th>27</th>\n",
       "      <td>0.022354</td>\n",
       "      <td>launched_days_in_month</td>\n",
       "    </tr>\n",
       "    <tr>\n",
       "      <th>23</th>\n",
       "      <td>0.021854</td>\n",
       "      <td>deadline_month</td>\n",
       "    </tr>\n",
       "    <tr>\n",
       "      <th>38</th>\n",
       "      <td>0.021119</td>\n",
       "      <td>launched_day</td>\n",
       "    </tr>\n",
       "    <tr>\n",
       "      <th>5</th>\n",
       "      <td>0.020573</td>\n",
       "      <td>country</td>\n",
       "    </tr>\n",
       "    <tr>\n",
       "      <th>30</th>\n",
       "      <td>0.014982</td>\n",
       "      <td>launched_is_month_start</td>\n",
       "    </tr>\n",
       "    <tr>\n",
       "      <th>8</th>\n",
       "      <td>0.011505</td>\n",
       "      <td>deadline_dayofyear</td>\n",
       "    </tr>\n",
       "    <tr>\n",
       "      <th>20</th>\n",
       "      <td>0.011471</td>\n",
       "      <td>deadline_day</td>\n",
       "    </tr>\n",
       "    <tr>\n",
       "      <th>1</th>\n",
       "      <td>0.002026</td>\n",
       "      <td>name</td>\n",
       "    </tr>\n",
       "    <tr>\n",
       "      <th>37</th>\n",
       "      <td>0.000000</td>\n",
       "      <td>launched_weekofyear</td>\n",
       "    </tr>\n",
       "    <tr>\n",
       "      <th>36</th>\n",
       "      <td>0.000000</td>\n",
       "      <td>launched_week</td>\n",
       "    </tr>\n",
       "    <tr>\n",
       "      <th>35</th>\n",
       "      <td>0.000000</td>\n",
       "      <td>launched_quarter</td>\n",
       "    </tr>\n",
       "    <tr>\n",
       "      <th>34</th>\n",
       "      <td>0.000000</td>\n",
       "      <td>launched_is_year_start</td>\n",
       "    </tr>\n",
       "    <tr>\n",
       "      <th>41</th>\n",
       "      <td>0.000000</td>\n",
       "      <td>launched_month</td>\n",
       "    </tr>\n",
       "    <tr>\n",
       "      <th>33</th>\n",
       "      <td>0.000000</td>\n",
       "      <td>launched_is_year_end</td>\n",
       "    </tr>\n",
       "    <tr>\n",
       "      <th>42</th>\n",
       "      <td>0.000000</td>\n",
       "      <td>launched_year</td>\n",
       "    </tr>\n",
       "    <tr>\n",
       "      <th>32</th>\n",
       "      <td>0.000000</td>\n",
       "      <td>launched_is_quarter_start</td>\n",
       "    </tr>\n",
       "    <tr>\n",
       "      <th>31</th>\n",
       "      <td>0.000000</td>\n",
       "      <td>launched_is_quarter_end</td>\n",
       "    </tr>\n",
       "    <tr>\n",
       "      <th>0</th>\n",
       "      <td>0.000000</td>\n",
       "      <td>ID</td>\n",
       "    </tr>\n",
       "    <tr>\n",
       "      <th>29</th>\n",
       "      <td>0.000000</td>\n",
       "      <td>launched_is_month_end</td>\n",
       "    </tr>\n",
       "    <tr>\n",
       "      <th>28</th>\n",
       "      <td>0.000000</td>\n",
       "      <td>launched_is_leap_year</td>\n",
       "    </tr>\n",
       "    <tr>\n",
       "      <th>24</th>\n",
       "      <td>0.000000</td>\n",
       "      <td>deadline_year</td>\n",
       "    </tr>\n",
       "    <tr>\n",
       "      <th>21</th>\n",
       "      <td>0.000000</td>\n",
       "      <td>deadline_hour</td>\n",
       "    </tr>\n",
       "    <tr>\n",
       "      <th>19</th>\n",
       "      <td>0.000000</td>\n",
       "      <td>deadline_weekofyear</td>\n",
       "    </tr>\n",
       "    <tr>\n",
       "      <th>17</th>\n",
       "      <td>0.000000</td>\n",
       "      <td>deadline_quarter</td>\n",
       "    </tr>\n",
       "    <tr>\n",
       "      <th>16</th>\n",
       "      <td>0.000000</td>\n",
       "      <td>deadline_is_year_start</td>\n",
       "    </tr>\n",
       "    <tr>\n",
       "      <th>15</th>\n",
       "      <td>0.000000</td>\n",
       "      <td>deadline_is_year_end</td>\n",
       "    </tr>\n",
       "    <tr>\n",
       "      <th>14</th>\n",
       "      <td>0.000000</td>\n",
       "      <td>deadline_is_quarter_start</td>\n",
       "    </tr>\n",
       "    <tr>\n",
       "      <th>13</th>\n",
       "      <td>0.000000</td>\n",
       "      <td>deadline_is_quarter_end</td>\n",
       "    </tr>\n",
       "    <tr>\n",
       "      <th>12</th>\n",
       "      <td>0.000000</td>\n",
       "      <td>deadline_is_month_start</td>\n",
       "    </tr>\n",
       "    <tr>\n",
       "      <th>11</th>\n",
       "      <td>0.000000</td>\n",
       "      <td>deadline_is_month_end</td>\n",
       "    </tr>\n",
       "    <tr>\n",
       "      <th>10</th>\n",
       "      <td>0.000000</td>\n",
       "      <td>deadline_is_leap_year</td>\n",
       "    </tr>\n",
       "    <tr>\n",
       "      <th>22</th>\n",
       "      <td>0.000000</td>\n",
       "      <td>deadline_minute</td>\n",
       "    </tr>\n",
       "  </tbody>\n",
       "</table>\n",
       "</div>"
      ],
      "text/plain": [
       "    Importance                     Column\n",
       "6     0.207080                       goal\n",
       "43    0.102636      deadline_history_days\n",
       "2     0.093736                   category\n",
       "3     0.083528              main_category\n",
       "39    0.063676              launched_hour\n",
       "40    0.062726            launched_minute\n",
       "7     0.051011         deadline_dayofweek\n",
       "4     0.049180                   currency\n",
       "44    0.043757      launched_history_days\n",
       "9     0.037466     deadline_days_in_month\n",
       "25    0.033637         launched_dayofweek\n",
       "18    0.023120              deadline_week\n",
       "26    0.022566         launched_dayofyear\n",
       "27    0.022354     launched_days_in_month\n",
       "23    0.021854             deadline_month\n",
       "38    0.021119               launched_day\n",
       "5     0.020573                    country\n",
       "30    0.014982    launched_is_month_start\n",
       "8     0.011505         deadline_dayofyear\n",
       "20    0.011471               deadline_day\n",
       "1     0.002026                       name\n",
       "37    0.000000        launched_weekofyear\n",
       "36    0.000000              launched_week\n",
       "35    0.000000           launched_quarter\n",
       "34    0.000000     launched_is_year_start\n",
       "41    0.000000             launched_month\n",
       "33    0.000000       launched_is_year_end\n",
       "42    0.000000              launched_year\n",
       "32    0.000000  launched_is_quarter_start\n",
       "31    0.000000    launched_is_quarter_end\n",
       "0     0.000000                         ID\n",
       "29    0.000000      launched_is_month_end\n",
       "28    0.000000      launched_is_leap_year\n",
       "24    0.000000              deadline_year\n",
       "21    0.000000              deadline_hour\n",
       "19    0.000000        deadline_weekofyear\n",
       "17    0.000000           deadline_quarter\n",
       "16    0.000000     deadline_is_year_start\n",
       "15    0.000000       deadline_is_year_end\n",
       "14    0.000000  deadline_is_quarter_start\n",
       "13    0.000000    deadline_is_quarter_end\n",
       "12    0.000000    deadline_is_month_start\n",
       "11    0.000000      deadline_is_month_end\n",
       "10    0.000000      deadline_is_leap_year\n",
       "22    0.000000            deadline_minute"
      ]
     },
     "execution_count": 8,
     "metadata": {},
     "output_type": "execute_result"
    }
   ],
   "source": [
    "# let's take a look at feature importances\n",
    "feats = pd.DataFrame({ 'Importance': pipe.steps[1][1].feature_importances_, 'Column': X.columns})\n",
    "feats.sort_values(by='Importance', ascending=False)"
   ]
  },
  {
   "cell_type": "markdown",
   "metadata": {
    "slideshow": {
     "slide_type": "slide"
    }
   },
   "source": [
    "### Feature Engineering!"
   ]
  },
  {
   "cell_type": "code",
   "execution_count": 10,
   "metadata": {
    "slideshow": {
     "slide_type": "slide"
    }
   },
   "outputs": [],
   "source": [
    "# how long is your campaign?\n",
    "df['duration'] = (df['deadline'] - df['launched']).dt.days"
   ]
  },
  {
   "cell_type": "markdown",
   "metadata": {
    "slideshow": {
     "slide_type": "slide"
    }
   },
   "source": [
    "### Summary Statistics\n",
    "\n",
    "Let's look at how the goal amount of each campaign compared to the category that it belonged to."
   ]
  },
  {
   "cell_type": "code",
   "execution_count": 11,
   "metadata": {
    "slideshow": {
     "slide_type": "slide"
    }
   },
   "outputs": [],
   "source": [
    "# get the average goal for each category\n",
    "category_avgs = df.groupby('category')[['goal']].mean().reset_index().rename({'goal': 'category_goal_avg'}, axis=1)"
   ]
  },
  {
   "cell_type": "code",
   "execution_count": 12,
   "metadata": {
    "slideshow": {
     "slide_type": "slide"
    }
   },
   "outputs": [],
   "source": [
    "# and merge it back in with the original dataset\n",
    "df = df.merge(category_avgs, on='category')"
   ]
  },
  {
   "cell_type": "code",
   "execution_count": 13,
   "metadata": {
    "slideshow": {
     "slide_type": "slide"
    }
   },
   "outputs": [],
   "source": [
    "# and for each campaign get the percent of category average\n",
    "df['cat_goal_pct'] = df['goal'] / df['category_goal_avg']"
   ]
  },
  {
   "cell_type": "code",
   "execution_count": 14,
   "metadata": {
    "scrolled": true,
    "slideshow": {
     "slide_type": "slide"
    }
   },
   "outputs": [
    {
     "data": {
      "text/html": [
       "<div>\n",
       "<style scoped>\n",
       "    .dataframe tbody tr th:only-of-type {\n",
       "        vertical-align: middle;\n",
       "    }\n",
       "\n",
       "    .dataframe tbody tr th {\n",
       "        vertical-align: top;\n",
       "    }\n",
       "\n",
       "    .dataframe thead th {\n",
       "        text-align: right;\n",
       "    }\n",
       "</style>\n",
       "<table border=\"1\" class=\"dataframe\">\n",
       "  <thead>\n",
       "    <tr style=\"text-align: right;\">\n",
       "      <th></th>\n",
       "      <th>goal</th>\n",
       "      <th>category_goal_avg</th>\n",
       "      <th>cat_goal_pct</th>\n",
       "    </tr>\n",
       "  </thead>\n",
       "  <tbody>\n",
       "    <tr>\n",
       "      <th>0</th>\n",
       "      <td>1533.95</td>\n",
       "      <td>5213.996468</td>\n",
       "      <td>0.294199</td>\n",
       "    </tr>\n",
       "    <tr>\n",
       "      <th>1</th>\n",
       "      <td>6060.97</td>\n",
       "      <td>5213.996468</td>\n",
       "      <td>1.162442</td>\n",
       "    </tr>\n",
       "    <tr>\n",
       "      <th>2</th>\n",
       "      <td>2000.00</td>\n",
       "      <td>5213.996468</td>\n",
       "      <td>0.383583</td>\n",
       "    </tr>\n",
       "    <tr>\n",
       "      <th>3</th>\n",
       "      <td>10000.00</td>\n",
       "      <td>5213.996468</td>\n",
       "      <td>1.917915</td>\n",
       "    </tr>\n",
       "    <tr>\n",
       "      <th>4</th>\n",
       "      <td>757.52</td>\n",
       "      <td>5213.996468</td>\n",
       "      <td>0.145286</td>\n",
       "    </tr>\n",
       "  </tbody>\n",
       "</table>\n",
       "</div>"
      ],
      "text/plain": [
       "       goal  category_goal_avg  cat_goal_pct\n",
       "0   1533.95        5213.996468      0.294199\n",
       "1   6060.97        5213.996468      1.162442\n",
       "2   2000.00        5213.996468      0.383583\n",
       "3  10000.00        5213.996468      1.917915\n",
       "4    757.52        5213.996468      0.145286"
      ]
     },
     "execution_count": 14,
     "metadata": {},
     "output_type": "execute_result"
    }
   ],
   "source": [
    "# and our results\n",
    "df[['goal', 'category_goal_avg', 'cat_goal_pct']].head()"
   ]
  },
  {
   "cell_type": "markdown",
   "metadata": {
    "slideshow": {
     "slide_type": "slide"
    }
   },
   "source": [
    "### Your Turn:  \n",
    "\n",
    "Go through the same process, but this time, create two columns for the `main_category` feature:  it's average value, and the percent of average for each campaign\n",
    "\n",
    "Take 5-7 minutes"
   ]
  },
  {
   "cell_type": "code",
   "execution_count": 15,
   "metadata": {
    "slideshow": {
     "slide_type": "slide"
    }
   },
   "outputs": [],
   "source": [
    "# get the summary statistic\n",
    "main_cats = df.groupby('main_category')[['goal']].mean().reset_index().rename({'goal': 'main_cat_goal_avg'}, axis=1)"
   ]
  },
  {
   "cell_type": "code",
   "execution_count": 16,
   "metadata": {
    "slideshow": {
     "slide_type": "slide"
    }
   },
   "outputs": [],
   "source": [
    "# and merge it back in\n",
    "df = df.merge(main_cats, on='main_category')"
   ]
  },
  {
   "cell_type": "code",
   "execution_count": 17,
   "metadata": {
    "slideshow": {
     "slide_type": "slide"
    }
   },
   "outputs": [],
   "source": [
    "# and get the percent value\n",
    "df['main_goal_pct'] = df['goal'] / df['main_cat_goal_avg']"
   ]
  },
  {
   "cell_type": "code",
   "execution_count": 18,
   "metadata": {
    "slideshow": {
     "slide_type": "slide"
    }
   },
   "outputs": [
    {
     "data": {
      "text/html": [
       "<div>\n",
       "<style scoped>\n",
       "    .dataframe tbody tr th:only-of-type {\n",
       "        vertical-align: middle;\n",
       "    }\n",
       "\n",
       "    .dataframe tbody tr th {\n",
       "        vertical-align: top;\n",
       "    }\n",
       "\n",
       "    .dataframe thead th {\n",
       "        text-align: right;\n",
       "    }\n",
       "</style>\n",
       "<table border=\"1\" class=\"dataframe\">\n",
       "  <thead>\n",
       "    <tr style=\"text-align: right;\">\n",
       "      <th></th>\n",
       "      <th>goal</th>\n",
       "      <th>main_cat_goal_avg</th>\n",
       "      <th>main_goal_pct</th>\n",
       "    </tr>\n",
       "  </thead>\n",
       "  <tbody>\n",
       "    <tr>\n",
       "      <th>0</th>\n",
       "      <td>1533.95</td>\n",
       "      <td>22590.745149</td>\n",
       "      <td>0.067902</td>\n",
       "    </tr>\n",
       "    <tr>\n",
       "      <th>1</th>\n",
       "      <td>6060.97</td>\n",
       "      <td>22590.745149</td>\n",
       "      <td>0.268294</td>\n",
       "    </tr>\n",
       "    <tr>\n",
       "      <th>2</th>\n",
       "      <td>2000.00</td>\n",
       "      <td>22590.745149</td>\n",
       "      <td>0.088532</td>\n",
       "    </tr>\n",
       "    <tr>\n",
       "      <th>3</th>\n",
       "      <td>10000.00</td>\n",
       "      <td>22590.745149</td>\n",
       "      <td>0.442659</td>\n",
       "    </tr>\n",
       "    <tr>\n",
       "      <th>4</th>\n",
       "      <td>757.52</td>\n",
       "      <td>22590.745149</td>\n",
       "      <td>0.033532</td>\n",
       "    </tr>\n",
       "  </tbody>\n",
       "</table>\n",
       "</div>"
      ],
      "text/plain": [
       "       goal  main_cat_goal_avg  main_goal_pct\n",
       "0   1533.95       22590.745149       0.067902\n",
       "1   6060.97       22590.745149       0.268294\n",
       "2   2000.00       22590.745149       0.088532\n",
       "3  10000.00       22590.745149       0.442659\n",
       "4    757.52       22590.745149       0.033532"
      ]
     },
     "execution_count": 18,
     "metadata": {},
     "output_type": "execute_result"
    }
   ],
   "source": [
    "# take a look\n",
    "df[['goal', 'main_cat_goal_avg', 'main_goal_pct']].head()"
   ]
  },
  {
   "cell_type": "code",
   "execution_count": 19,
   "metadata": {
    "slideshow": {
     "slide_type": "slide"
    }
   },
   "outputs": [],
   "source": [
    "# let's re-declare and run\n",
    "X = df.drop(['deadline', 'launched', 'state'], axis=1)\n",
    "y = df['state']"
   ]
  },
  {
   "cell_type": "code",
   "execution_count": 20,
   "metadata": {
    "slideshow": {
     "slide_type": "slide"
    }
   },
   "outputs": [],
   "source": [
    "# refit\n",
    "scores = get_val_scores(pipe, X, y, random_state=1985, stratify=True, use_kfold=False)"
   ]
  },
  {
   "cell_type": "code",
   "execution_count": 21,
   "metadata": {
    "slideshow": {
     "slide_type": "slide"
    }
   },
   "outputs": [
    {
     "data": {
      "text/plain": [
       "{'validation_score': 0.6997621176589678}"
      ]
     },
     "execution_count": 21,
     "metadata": {},
     "output_type": "execute_result"
    }
   ],
   "source": [
    "# and take a peek -- a **little** better\n",
    "scores"
   ]
  },
  {
   "cell_type": "markdown",
   "metadata": {
    "slideshow": {
     "slide_type": "slide"
    }
   },
   "source": [
    "### What About Campaign Traffic?\n",
    "\n",
    "Other metrics that might be useful could be how busy Kickstarter was when you launched your campaign.  For example, if you launched your campaign during a week that's unusually slow, you might be more likely to be found by random backers.\n",
    "\n",
    "We'll use similar feature engineering techniques to get at these values."
   ]
  },
  {
   "cell_type": "code",
   "execution_count": 22,
   "metadata": {
    "slideshow": {
     "slide_type": "slide"
    }
   },
   "outputs": [],
   "source": [
    "# we'll get the number of campaigns launched during a particular week on Kickstarter\n",
    "weekly_sums = df.groupby(['launched_year', 'launched_weekofyear'])[['ID']].count().reset_index().rename({'ID': 'Weekly_Campaigns'}, axis=1)"
   ]
  },
  {
   "cell_type": "code",
   "execution_count": 23,
   "metadata": {
    "slideshow": {
     "slide_type": "slide"
    }
   },
   "outputs": [],
   "source": [
    "# and merge back in\n",
    "df = df.merge(weekly_sums, on=['launched_year', 'launched_weekofyear'])"
   ]
  },
  {
   "cell_type": "code",
   "execution_count": 24,
   "metadata": {
    "slideshow": {
     "slide_type": "slide"
    }
   },
   "outputs": [
    {
     "data": {
      "text/html": [
       "<div>\n",
       "<style scoped>\n",
       "    .dataframe tbody tr th:only-of-type {\n",
       "        vertical-align: middle;\n",
       "    }\n",
       "\n",
       "    .dataframe tbody tr th {\n",
       "        vertical-align: top;\n",
       "    }\n",
       "\n",
       "    .dataframe thead th {\n",
       "        text-align: right;\n",
       "    }\n",
       "</style>\n",
       "<table border=\"1\" class=\"dataframe\">\n",
       "  <thead>\n",
       "    <tr style=\"text-align: right;\">\n",
       "      <th></th>\n",
       "      <th>ID</th>\n",
       "      <th>name</th>\n",
       "      <th>category</th>\n",
       "      <th>main_category</th>\n",
       "      <th>currency</th>\n",
       "      <th>deadline</th>\n",
       "      <th>launched</th>\n",
       "      <th>state</th>\n",
       "      <th>country</th>\n",
       "      <th>goal</th>\n",
       "      <th>...</th>\n",
       "      <th>launched_month</th>\n",
       "      <th>launched_year</th>\n",
       "      <th>deadline_history_days</th>\n",
       "      <th>launched_history_days</th>\n",
       "      <th>duration</th>\n",
       "      <th>category_goal_avg</th>\n",
       "      <th>cat_goal_pct</th>\n",
       "      <th>main_cat_goal_avg</th>\n",
       "      <th>main_goal_pct</th>\n",
       "      <th>Weekly_Campaigns</th>\n",
       "    </tr>\n",
       "  </thead>\n",
       "  <tbody>\n",
       "    <tr>\n",
       "      <th>0</th>\n",
       "      <td>1000002330</td>\n",
       "      <td>The Songs of Adelaide &amp; Abullah</td>\n",
       "      <td>Poetry</td>\n",
       "      <td>Publishing</td>\n",
       "      <td>GBP</td>\n",
       "      <td>2015-10-09</td>\n",
       "      <td>2015-08-11 12:12:28</td>\n",
       "      <td>failed</td>\n",
       "      <td>GB</td>\n",
       "      <td>1533.95</td>\n",
       "      <td>...</td>\n",
       "      <td>8</td>\n",
       "      <td>2015</td>\n",
       "      <td>2350</td>\n",
       "      <td>16658</td>\n",
       "      <td>58</td>\n",
       "      <td>5213.996468</td>\n",
       "      <td>0.294199</td>\n",
       "      <td>22590.745149</td>\n",
       "      <td>0.067902</td>\n",
       "      <td>1271</td>\n",
       "    </tr>\n",
       "    <tr>\n",
       "      <th>1</th>\n",
       "      <td>1403665672</td>\n",
       "      <td>Sentiments of a Sentimental Ol' Fool: A book t...</td>\n",
       "      <td>Poetry</td>\n",
       "      <td>Publishing</td>\n",
       "      <td>USD</td>\n",
       "      <td>2015-09-09</td>\n",
       "      <td>2015-08-10 17:36:06</td>\n",
       "      <td>failed</td>\n",
       "      <td>US</td>\n",
       "      <td>5000.00</td>\n",
       "      <td>...</td>\n",
       "      <td>8</td>\n",
       "      <td>2015</td>\n",
       "      <td>2320</td>\n",
       "      <td>16657</td>\n",
       "      <td>29</td>\n",
       "      <td>5213.996468</td>\n",
       "      <td>0.958957</td>\n",
       "      <td>22590.745149</td>\n",
       "      <td>0.221330</td>\n",
       "      <td>1271</td>\n",
       "    </tr>\n",
       "    <tr>\n",
       "      <th>2</th>\n",
       "      <td>1811433012</td>\n",
       "      <td>My first Poetry Book (Canceled)</td>\n",
       "      <td>Poetry</td>\n",
       "      <td>Publishing</td>\n",
       "      <td>USD</td>\n",
       "      <td>2015-09-12</td>\n",
       "      <td>2015-08-13 05:08:15</td>\n",
       "      <td>failed</td>\n",
       "      <td>US</td>\n",
       "      <td>2000.00</td>\n",
       "      <td>...</td>\n",
       "      <td>8</td>\n",
       "      <td>2015</td>\n",
       "      <td>2323</td>\n",
       "      <td>16660</td>\n",
       "      <td>29</td>\n",
       "      <td>5213.996468</td>\n",
       "      <td>0.383583</td>\n",
       "      <td>22590.745149</td>\n",
       "      <td>0.088532</td>\n",
       "      <td>1271</td>\n",
       "    </tr>\n",
       "    <tr>\n",
       "      <th>3</th>\n",
       "      <td>75470413</td>\n",
       "      <td>The Circled Shore</td>\n",
       "      <td>Poetry</td>\n",
       "      <td>Publishing</td>\n",
       "      <td>USD</td>\n",
       "      <td>2015-09-11</td>\n",
       "      <td>2015-08-14 06:26:10</td>\n",
       "      <td>successful</td>\n",
       "      <td>US</td>\n",
       "      <td>3000.00</td>\n",
       "      <td>...</td>\n",
       "      <td>8</td>\n",
       "      <td>2015</td>\n",
       "      <td>2322</td>\n",
       "      <td>16661</td>\n",
       "      <td>27</td>\n",
       "      <td>5213.996468</td>\n",
       "      <td>0.575374</td>\n",
       "      <td>22590.745149</td>\n",
       "      <td>0.132798</td>\n",
       "      <td>1271</td>\n",
       "    </tr>\n",
       "    <tr>\n",
       "      <th>4</th>\n",
       "      <td>1053752807</td>\n",
       "      <td>The Armor Journal Magazine Goes In Print (Canc...</td>\n",
       "      <td>Nonfiction</td>\n",
       "      <td>Publishing</td>\n",
       "      <td>USD</td>\n",
       "      <td>2015-10-10</td>\n",
       "      <td>2015-08-11 07:45:32</td>\n",
       "      <td>failed</td>\n",
       "      <td>US</td>\n",
       "      <td>12000.00</td>\n",
       "      <td>...</td>\n",
       "      <td>8</td>\n",
       "      <td>2015</td>\n",
       "      <td>2351</td>\n",
       "      <td>16658</td>\n",
       "      <td>59</td>\n",
       "      <td>18906.372594</td>\n",
       "      <td>0.634707</td>\n",
       "      <td>22590.745149</td>\n",
       "      <td>0.531191</td>\n",
       "      <td>1271</td>\n",
       "    </tr>\n",
       "  </tbody>\n",
       "</table>\n",
       "<p>5 rows × 54 columns</p>\n",
       "</div>"
      ],
      "text/plain": [
       "           ID                                               name    category  \\\n",
       "0  1000002330                    The Songs of Adelaide & Abullah      Poetry   \n",
       "1  1403665672  Sentiments of a Sentimental Ol' Fool: A book t...      Poetry   \n",
       "2  1811433012                    My first Poetry Book (Canceled)      Poetry   \n",
       "3    75470413                                  The Circled Shore      Poetry   \n",
       "4  1053752807  The Armor Journal Magazine Goes In Print (Canc...  Nonfiction   \n",
       "\n",
       "  main_category currency   deadline            launched       state country  \\\n",
       "0    Publishing      GBP 2015-10-09 2015-08-11 12:12:28      failed      GB   \n",
       "1    Publishing      USD 2015-09-09 2015-08-10 17:36:06      failed      US   \n",
       "2    Publishing      USD 2015-09-12 2015-08-13 05:08:15      failed      US   \n",
       "3    Publishing      USD 2015-09-11 2015-08-14 06:26:10  successful      US   \n",
       "4    Publishing      USD 2015-10-10 2015-08-11 07:45:32      failed      US   \n",
       "\n",
       "       goal  ...  launched_month  launched_year  deadline_history_days  \\\n",
       "0   1533.95  ...               8           2015                   2350   \n",
       "1   5000.00  ...               8           2015                   2320   \n",
       "2   2000.00  ...               8           2015                   2323   \n",
       "3   3000.00  ...               8           2015                   2322   \n",
       "4  12000.00  ...               8           2015                   2351   \n",
       "\n",
       "   launched_history_days  duration  category_goal_avg  cat_goal_pct  \\\n",
       "0                  16658        58        5213.996468      0.294199   \n",
       "1                  16657        29        5213.996468      0.958957   \n",
       "2                  16660        29        5213.996468      0.383583   \n",
       "3                  16661        27        5213.996468      0.575374   \n",
       "4                  16658        59       18906.372594      0.634707   \n",
       "\n",
       "   main_cat_goal_avg  main_goal_pct  Weekly_Campaigns  \n",
       "0       22590.745149       0.067902              1271  \n",
       "1       22590.745149       0.221330              1271  \n",
       "2       22590.745149       0.088532              1271  \n",
       "3       22590.745149       0.132798              1271  \n",
       "4       22590.745149       0.531191              1271  \n",
       "\n",
       "[5 rows x 54 columns]"
      ]
     },
     "execution_count": 24,
     "metadata": {},
     "output_type": "execute_result"
    }
   ],
   "source": [
    "# and our final results\n",
    "df.head()"
   ]
  },
  {
   "cell_type": "markdown",
   "metadata": {
    "slideshow": {
     "slide_type": "slide"
    }
   },
   "source": [
    "### Your Turn\n",
    "\n",
    "Perform this same task, but get the values for the following:\n",
    "\n",
    " - Number of campaigns launched on that particular **day**\n",
    " - Number of campaigns launched within a particular **category** in a particular week\n",
    " - Number of campaigns launched within a particular category in a particular day\n",
    " \n",
    "Take 10 - 15 minutes"
   ]
  },
  {
   "cell_type": "code",
   "execution_count": 25,
   "metadata": {
    "slideshow": {
     "slide_type": "slide"
    }
   },
   "outputs": [],
   "source": [
    "# the daily totals\n",
    "daily_sums = df.groupby(['launched_year', 'launched_dayofyear'])[['ID']].count().reset_index().rename({'ID': 'Daily_Campaigns'}, axis=1)"
   ]
  },
  {
   "cell_type": "code",
   "execution_count": 26,
   "metadata": {
    "slideshow": {
     "slide_type": "slide"
    }
   },
   "outputs": [],
   "source": [
    "# merge it back in\n",
    "df = df.merge(daily_sums, on=['launched_year', 'launched_dayofyear'])"
   ]
  },
  {
   "cell_type": "code",
   "execution_count": 27,
   "metadata": {
    "slideshow": {
     "slide_type": "slide"
    }
   },
   "outputs": [],
   "source": [
    "# weekly totals for a particular category\n",
    "cat_weekly_sums = df.groupby(['category', 'launched_year', 'launched_weekofyear'])[['ID']].count().reset_index().rename({'ID': 'Cat_Weekly_Campaigns'}, axis=1)"
   ]
  },
  {
   "cell_type": "code",
   "execution_count": 28,
   "metadata": {
    "slideshow": {
     "slide_type": "slide"
    }
   },
   "outputs": [],
   "source": [
    "# merge them back in\n",
    "df = df.merge(cat_weekly_sums, on=['category', 'launched_year', 'launched_weekofyear'])"
   ]
  },
  {
   "cell_type": "code",
   "execution_count": 29,
   "metadata": {
    "slideshow": {
     "slide_type": "slide"
    }
   },
   "outputs": [],
   "source": [
    "# daily totals for a particular category\n",
    "cat_daily_sums = df.groupby(['category', 'launched_year', 'launched_dayofyear'])[['ID']].count().reset_index().rename({'ID': 'Cat_Daily_Campaigns'}, axis=1)"
   ]
  },
  {
   "cell_type": "code",
   "execution_count": 30,
   "metadata": {
    "slideshow": {
     "slide_type": "slide"
    }
   },
   "outputs": [],
   "source": [
    "# and merge back in\n",
    "df = df.merge(cat_daily_sums, on=['category', 'launched_year', 'launched_dayofyear'])"
   ]
  },
  {
   "cell_type": "code",
   "execution_count": 31,
   "metadata": {
    "slideshow": {
     "slide_type": "slide"
    }
   },
   "outputs": [],
   "source": [
    "# let's re-declare X & y\n",
    "X = df.drop(['deadline', 'launched', 'state'], axis=1)\n",
    "y = df['state']"
   ]
  },
  {
   "cell_type": "code",
   "execution_count": 32,
   "metadata": {
    "slideshow": {
     "slide_type": "slide"
    }
   },
   "outputs": [],
   "source": [
    "# and fit again\n",
    "scores = get_val_scores(pipe, X, y, random_state=1985, stratify=True, use_kfold=False)"
   ]
  },
  {
   "cell_type": "code",
   "execution_count": 33,
   "metadata": {
    "slideshow": {
     "slide_type": "slide"
    }
   },
   "outputs": [
    {
     "data": {
      "text/plain": [
       "{'validation_score': 0.6994584380746715}"
      ]
     },
     "execution_count": 33,
     "metadata": {},
     "output_type": "execute_result"
    }
   ],
   "source": [
    "# these did not help, so we'll drop them\n",
    "scores"
   ]
  },
  {
   "cell_type": "code",
   "execution_count": 34,
   "metadata": {
    "slideshow": {
     "slide_type": "slide"
    }
   },
   "outputs": [],
   "source": [
    "# get rid of the columns\n",
    "df.drop(['Daily_Campaigns', 'Cat_Weekly_Campaigns', 'Cat_Daily_Campaigns'], axis=1, inplace=True)"
   ]
  },
  {
   "cell_type": "markdown",
   "metadata": {
    "slideshow": {
     "slide_type": "slide"
    }
   },
   "source": [
    "### What About The Name Column\n",
    "\n",
    "Perhaps there are grammatical clues that can add predictive value to how likely a campaign is to succeed.  Perhaps people with better grammar are more likely to be conscientious and \"have what it takes\".  We'll go ahead and add in a few columns to find out."
   ]
  },
  {
   "cell_type": "code",
   "execution_count": 36,
   "metadata": {
    "slideshow": {
     "slide_type": "slide"
    }
   },
   "outputs": [],
   "source": [
    "# how long is the title?\n",
    "df['name_length'] = df['name'].str.len()"
   ]
  },
  {
   "cell_type": "code",
   "execution_count": 37,
   "metadata": {
    "slideshow": {
     "slide_type": "slide"
    }
   },
   "outputs": [],
   "source": [
    "# did they use all upper or lower cases?\n",
    "df['name_upper_case'] = df['name'].str.isupper().astype(bool)\n",
    "df['name_lower_case'] = df['name'].str.islower().astype(bool)"
   ]
  },
  {
   "cell_type": "code",
   "execution_count": 38,
   "metadata": {
    "slideshow": {
     "slide_type": "slide"
    }
   },
   "outputs": [],
   "source": [
    "# Did they format it as a title?\n",
    "df['name_is_title'] = df['name'].str.title().astype(bool)"
   ]
  },
  {
   "cell_type": "code",
   "execution_count": 39,
   "metadata": {
    "slideshow": {
     "slide_type": "slide"
    }
   },
   "outputs": [],
   "source": [
    "# Did they use exclamation marks?\n",
    "df['name_exclamation'] = df['name'].str.contains('!').astype(bool)"
   ]
  },
  {
   "cell_type": "code",
   "execution_count": 41,
   "metadata": {
    "slideshow": {
     "slide_type": "slide"
    }
   },
   "outputs": [],
   "source": [
    "# refit and score\n",
    "X = df.drop(['deadline', 'launched', 'state'], axis=1)\n",
    "y = df['state']"
   ]
  },
  {
   "cell_type": "code",
   "execution_count": 42,
   "metadata": {
    "slideshow": {
     "slide_type": "slide"
    }
   },
   "outputs": [],
   "source": [
    "# refit and score\n",
    "scores = get_val_scores(pipe, X, y, random_state=1985, stratify=True, use_kfold=False)"
   ]
  },
  {
   "cell_type": "code",
   "execution_count": 43,
   "metadata": {
    "slideshow": {
     "slide_type": "slide"
    }
   },
   "outputs": [
    {
     "data": {
      "text/plain": [
       "{'validation_score': 0.6972483255445143}"
      ]
     },
     "execution_count": 43,
     "metadata": {},
     "output_type": "execute_result"
    }
   ],
   "source": [
    "# and this didn't seem to help either\n",
    "scores"
   ]
  },
  {
   "cell_type": "code",
   "execution_count": 44,
   "metadata": {
    "slideshow": {
     "slide_type": "slide"
    }
   },
   "outputs": [],
   "source": [
    "# so we'll drop\n",
    "df.drop(['name_length', 'name_upper_case', 'name_lower_case', 'name_is_title', 'name_exclamation'], axis=1, inplace=True)"
   ]
  },
  {
   "cell_type": "markdown",
   "metadata": {
    "slideshow": {
     "slide_type": "slide"
    }
   },
   "source": [
    "### Parameter Tuning\n",
    "\n",
    "Now that we've found the most useful version of our dataset, we'll go ahead and find the best **parameters** for our model -- ie, aspects of the model that exist independently of the data itself.\n",
    "\n",
    "Due to time constraints we'll limit ourselves to the depth of the trees, and the number of boosting rounds."
   ]
  },
  {
   "cell_type": "code",
   "execution_count": 131,
   "metadata": {
    "slideshow": {
     "slide_type": "slide"
    }
   },
   "outputs": [],
   "source": [
    "X = df.drop(['deadline', 'launched', 'state'], axis=1)\n",
    "y = df['state']"
   ]
  },
  {
   "cell_type": "code",
   "execution_count": 133,
   "metadata": {
    "slideshow": {
     "slide_type": "slide"
    }
   },
   "outputs": [
    {
     "name": "stdout",
     "output_type": "stream",
     "text": [
      "New round.  Depth: 3, Trees: 100\n",
      "Score after fitting: 0.7006056720597912\n",
      "New round.  Depth: 3, Trees: 200\n",
      "Score after fitting: 0.7046041199196936\n",
      "New round.  Depth: 4, Trees: 100\n",
      "Score after fitting: 0.7063249708973731\n",
      "New round.  Depth: 4, Trees: 200\n",
      "Score after fitting: 0.7137145074485853\n",
      "New round.  Depth: 5, Trees: 100\n",
      "Score after fitting: 0.7080120796990198\n",
      "New round.  Depth: 5, Trees: 200\n",
      "Score after fitting: 0.719163868877904\n"
     ]
    }
   ],
   "source": [
    "# parameter tuning\n",
    "max_depth = [3, 4, 5]\n",
    "num_trees = [100, 200]\n",
    "cv_scores = []\n",
    "\n",
    "for depth in max_depth:\n",
    "    for tree in num_trees:\n",
    "        print(f\"New round.  Depth: {depth}, Trees: {tree}\")\n",
    "        pipe.steps[1][1].set_params(max_depth=depth, n_estimators=tree)\n",
    "        score = get_val_scores(pipe, X, y, use_kfold=False, stratify=True, random_state=1985)['validation_score']\n",
    "        print(f\"Score after fitting: {score}\")\n",
    "        cv_scores.append((score, depth, tree))"
   ]
  },
  {
   "cell_type": "code",
   "execution_count": 46,
   "metadata": {
    "slideshow": {
     "slide_type": "slide"
    }
   },
   "outputs": [],
   "source": [
    "# now let's fit on ALL of our training set\n",
    "X_train, X_test, y_train, y_test = train_test_split(X, y, test_size=0.2, stratify=y, random_state=1985)"
   ]
  },
  {
   "cell_type": "code",
   "execution_count": 136,
   "metadata": {
    "slideshow": {
     "slide_type": "slide"
    }
   },
   "outputs": [
    {
     "data": {
      "text/plain": [
       "{'base_score': 0.5,\n",
       " 'booster': 'gbtree',\n",
       " 'colsample_bylevel': 1,\n",
       " 'colsample_bynode': 1,\n",
       " 'colsample_bytree': 1,\n",
       " 'gamma': 0,\n",
       " 'learning_rate': 0.1,\n",
       " 'max_delta_step': 0,\n",
       " 'max_depth': 5,\n",
       " 'min_child_weight': 1,\n",
       " 'missing': None,\n",
       " 'n_estimators': 200,\n",
       " 'n_jobs': 1,\n",
       " 'nthread': None,\n",
       " 'objective': 'binary:logistic',\n",
       " 'random_state': 0,\n",
       " 'reg_alpha': 0,\n",
       " 'reg_lambda': 1,\n",
       " 'scale_pos_weight': 1,\n",
       " 'seed': None,\n",
       " 'silent': None,\n",
       " 'subsample': 1,\n",
       " 'verbosity': 1}"
      ]
     },
     "execution_count": 136,
     "metadata": {},
     "output_type": "execute_result"
    }
   ],
   "source": [
    "# notice it's already set to our ideal parameters\n",
    "pipe.steps[1][1].get_params()"
   ]
  },
  {
   "cell_type": "code",
   "execution_count": 137,
   "metadata": {
    "slideshow": {
     "slide_type": "slide"
    }
   },
   "outputs": [
    {
     "data": {
      "text/plain": [
       "Pipeline(memory=None,\n",
       "         steps=[('ordinalencoder',\n",
       "                 OrdinalEncoder(cols=['name', 'category', 'main_category',\n",
       "                                      'currency', 'country'],\n",
       "                                drop_invariant=False, handle_missing='value',\n",
       "                                handle_unknown='value',\n",
       "                                mapping=[{'col': 'name',\n",
       "                                          'data_type': dtype('O'),\n",
       "                                          'mapping': Ice Bunny                                                          1\n",
       "700 Knights 2 of 4 - Let's Print                                   2\n",
       "The Lil Trucker™                                                   3\n",
       "Departure                                                          4\n",
       "Billion Dollar Beauty Boom, a documentary on China'...\n",
       "                 XGBClassifier(base_score=0.5, booster='gbtree',\n",
       "                               colsample_bylevel=1, colsample_bynode=1,\n",
       "                               colsample_bytree=1, gamma=0, learning_rate=0.1,\n",
       "                               max_delta_step=0, max_depth=5,\n",
       "                               min_child_weight=1, missing=None,\n",
       "                               n_estimators=200, n_jobs=1, nthread=None,\n",
       "                               objective='binary:logistic', random_state=0,\n",
       "                               reg_alpha=0, reg_lambda=1, scale_pos_weight=1,\n",
       "                               seed=None, silent=None, subsample=1,\n",
       "                               verbosity=1))],\n",
       "         verbose=False)"
      ]
     },
     "execution_count": 137,
     "metadata": {},
     "output_type": "execute_result"
    }
   ],
   "source": [
    "# fit on ALL of the training set\n",
    "pipe.fit(X_train, y_train)"
   ]
  },
  {
   "cell_type": "code",
   "execution_count": 138,
   "metadata": {
    "slideshow": {
     "slide_type": "slide"
    }
   },
   "outputs": [
    {
     "data": {
      "text/plain": [
       "0.7105181466035011"
      ]
     },
     "execution_count": 138,
     "metadata": {},
     "output_type": "execute_result"
    }
   ],
   "source": [
    "# and finally score\n",
    "pipe.score(X_test, y_test)"
   ]
  },
  {
   "cell_type": "markdown",
   "metadata": {
    "slideshow": {
     "slide_type": "slide"
    }
   },
   "source": [
    "### And What About SciKit Learn?\n",
    "\n",
    "Here's a sample to demonstrate how the SciKit Learn implementation of GBM would have worked on the same dataset, with the same parameters"
   ]
  },
  {
   "cell_type": "code",
   "execution_count": 140,
   "metadata": {
    "slideshow": {
     "slide_type": "slide"
    }
   },
   "outputs": [],
   "source": [
    "mod2 = GradientBoostingClassifier(n_estimators=200, max_depth=5)\n",
    "pipe2 = make_pipeline(OrdinalEncoder(), mod2)"
   ]
  },
  {
   "cell_type": "code",
   "execution_count": 142,
   "metadata": {
    "slideshow": {
     "slide_type": "slide"
    }
   },
   "outputs": [],
   "source": [
    "# fill in the missing values\n",
    "X.fillna('Missing', inplace=True)\n",
    "\n",
    "X_train, X_test, y_train, y_test = train_test_split(X, y, test_size=0.2, stratify=y, random_state=1985)"
   ]
  },
  {
   "cell_type": "code",
   "execution_count": 143,
   "metadata": {
    "slideshow": {
     "slide_type": "slide"
    }
   },
   "outputs": [
    {
     "data": {
      "text/plain": [
       "0.701893617308445"
      ]
     },
     "execution_count": 143,
     "metadata": {},
     "output_type": "execute_result"
    }
   ],
   "source": [
    "# and finally we'll fit and score\n",
    "pipe2.fit(X_train, y_train)\n",
    "pipe2.score(X_test, y_test)"
   ]
  },
  {
   "cell_type": "markdown",
   "metadata": {
    "slideshow": {
     "slide_type": "slide"
    }
   },
   "source": [
    "### Evaluating Classification Models"
   ]
  },
  {
   "cell_type": "markdown",
   "metadata": {
    "slideshow": {
     "slide_type": "slide"
    }
   },
   "source": [
    "#### Common Issues With Classification Models:\n",
    "\n",
    " - Accuracy can be misleading metric:\n",
    "  - Often care more about one class than the other\n",
    "  - If classes are imbalanced, model can be accurate but useless\n",
    " - Positive category is often very small portion of overall samples (fraud, terrorists, clicks, etc)\n",
    " - Classification models often need to be tuned for criteria specific to the situation"
   ]
  },
  {
   "cell_type": "code",
   "execution_count": 71,
   "metadata": {
    "slideshow": {
     "slide_type": "slide"
    }
   },
   "outputs": [
    {
     "data": {
      "image/png": "[encoded data removed]",
      "text/plain": [
       "<Figure size 432x288 with 2 Axes>"
      ]
     },
     "metadata": {
      "needs_background": "light"
     },
     "output_type": "display_data"
    }
   ],
   "source": [
    "from sklearn.metrics import plot_confusion_matrix\n",
    "from sklearn.metrics import classification_report\n",
    "import matplotlib.pyplot as plt\n",
    "\n",
    "plot_confusion_matrix(pipe, X_test, y_test,\n",
    "                                 cmap=plt.cm.Blues,\n",
    "                                 normalize='pred');"
   ]
  },
  {
   "cell_type": "code",
   "execution_count": 75,
   "metadata": {
    "slideshow": {
     "slide_type": "slide"
    }
   },
   "outputs": [
    {
     "name": "stdout",
     "output_type": "stream",
     "text": [
      "              precision    recall  f1-score   support\n",
      "\n",
      "      failed       0.72      0.88      0.79     47300\n",
      "  successful       0.64      0.38      0.48     26791\n",
      "\n",
      "    accuracy                           0.70     74091\n",
      "   macro avg       0.68      0.63      0.63     74091\n",
      "weighted avg       0.69      0.70      0.68     74091\n",
      "\n"
     ]
    }
   ],
   "source": [
    "# some more advanced metrics\n",
    "print(classification_report(y_test, pipe.predict(X_test)))"
   ]
  },
  {
   "cell_type": "markdown",
   "metadata": {
    "slideshow": {
     "slide_type": "slide"
    }
   },
   "source": [
    "$$ precision:  \\frac{tp}{tp + fp}  $$\n",
    "\n",
    "What it tells you:  if you predict 1, what are the chances that that prediction is correct?"
   ]
  },
  {
   "cell_type": "markdown",
   "metadata": {
    "slideshow": {
     "slide_type": "slide"
    }
   },
   "source": [
    "$$ recall: \\frac{tp}{tp + fn} $$\n",
    "\n",
    "What it tells you -- for all of the existing instances of an item out there, how likely are you to detect it?"
   ]
  },
  {
   "cell_type": "markdown",
   "metadata": {
    "slideshow": {
     "slide_type": "slide"
    }
   },
   "source": [
    "$$ f1 score:  \\frac{precision * recall}{precision + recall} * 2 $$\n",
    "\n",
    "A way of blending the two in a way that optimizes the two concurrently."
   ]
  },
  {
   "cell_type": "code",
   "execution_count": 84,
   "metadata": {
    "slideshow": {
     "slide_type": "slide"
    }
   },
   "outputs": [
    {
     "data": {
      "text/plain": [
       "0.47956275984491054"
      ]
     },
     "execution_count": 84,
     "metadata": {},
     "output_type": "execute_result"
    }
   ],
   "source": [
    "from sklearn.metrics import f1_score\n",
    "\n",
    "y_true = np.where(y_test == 'successful', 1, 0)\n",
    "y_pred = np.where(pipe.predict(X_test) == 'successful', 1, 0)\n",
    "# our f1 score\n",
    "f1_score(y_true, y_pred)"
   ]
  },
  {
   "cell_type": "markdown",
   "metadata": {
    "slideshow": {
     "slide_type": "slide"
    }
   },
   "source": [
    "### Second Issue:  What If Classes Are Heavily Imbalanced?\n",
    "\n",
    "Key GBM parameter:  `scale_pos_weight`"
   ]
  },
  {
   "cell_type": "code",
   "execution_count": 85,
   "metadata": {},
   "outputs": [
    {
     "data": {
      "text/plain": [
       "{'base_score': 0.5,\n",
       " 'booster': 'gbtree',\n",
       " 'colsample_bylevel': 1,\n",
       " 'colsample_bynode': 1,\n",
       " 'colsample_bytree': 1,\n",
       " 'gamma': 0,\n",
       " 'learning_rate': 0.1,\n",
       " 'max_delta_step': 0,\n",
       " 'max_depth': 3,\n",
       " 'min_child_weight': 1,\n",
       " 'missing': None,\n",
       " 'n_estimators': 100,\n",
       " 'n_jobs': 1,\n",
       " 'nthread': None,\n",
       " 'objective': 'binary:logistic',\n",
       " 'random_state': 0,\n",
       " 'reg_alpha': 0,\n",
       " 'reg_lambda': 1,\n",
       " 'scale_pos_weight': 1,\n",
       " 'seed': None,\n",
       " 'silent': None,\n",
       " 'subsample': 1,\n",
       " 'verbosity': 1}"
      ]
     },
     "execution_count": 85,
     "metadata": {},
     "output_type": "execute_result"
    }
   ],
   "source": [
    "pipe.steps[1][1].get_params()"
   ]
  },
  {
   "cell_type": "markdown",
   "metadata": {
    "slideshow": {
     "slide_type": "slide"
    }
   },
   "source": [
    " - Tells you how much to weight positive samples relative to negative ones\n",
    " - Default is 1:1\n",
    " - If value is set to 10, means loss from incorrectly classifying label 1 will count 10x as much as incorrectly classifying negative label\n",
    " - Good rule of thumb:  set the value to the inverse of class proportion\n",
    " - Ie, successful campaigns are 1/3 of the data, so set pos_scale_weight to 3"
   ]
  },
  {
   "cell_type": "code",
   "execution_count": 96,
   "metadata": {
    "slideshow": {
     "slide_type": "slide"
    }
   },
   "outputs": [],
   "source": [
    "X_train, X_val, y_train, y_val = train_test_split(X_train, y_train, test_size=0.2, random_state=1985)"
   ]
  },
  {
   "cell_type": "code",
   "execution_count": 99,
   "metadata": {
    "slideshow": {
     "slide_type": "slide"
    }
   },
   "outputs": [
    {
     "data": {
      "text/plain": [
       "0.48471210504338147"
      ]
     },
     "execution_count": 99,
     "metadata": {},
     "output_type": "execute_result"
    }
   ],
   "source": [
    "# can we optimize the value of the positive weight?\n",
    "pipe.fit(X_train, y_train)\n",
    "y_true = np.where(y_test == 'successful', 1, 0)\n",
    "y_pred = np.where(pipe.predict(X_test) == 'successful', 1, 0)\n",
    "f1_score(y_true, y_pred)"
   ]
  },
  {
   "cell_type": "markdown",
   "metadata": {
    "slideshow": {
     "slide_type": "slide"
    }
   },
   "source": [
    "### Your Turn:  Let's Try And Find the Ideal Values of `scale_pos_weight` for our dataset, using an F1 Score.\n",
    "\n",
    "Use the value of 1, 2, 3, 4"
   ]
  },
  {
   "cell_type": "code",
   "execution_count": 102,
   "metadata": {
    "slideshow": {
     "slide_type": "slide"
    }
   },
   "outputs": [
    {
     "name": "stdout",
     "output_type": "stream",
     "text": [
      "Testing the validation score for weighting of: 1\n",
      "Validation score: 0.48471210504338147\n",
      "Testing the validation score for weighting of: 2\n",
      "Validation score: 0.6161128894098552\n",
      "Testing the validation score for weighting of: 3\n",
      "Validation score: 0.6045754090556016\n",
      "Testing the validation score for weighting of: 4\n",
      "Validation score: 0.5871856135369414\n"
     ]
    },
    {
     "data": {
      "text/plain": [
       "XGBClassifier(base_score=0.5, booster='gbtree', colsample_bylevel=1,\n",
       "              colsample_bynode=1, colsample_bytree=1, gamma=0,\n",
       "              learning_rate=0.1, max_delta_step=0, max_depth=3,\n",
       "              min_child_weight=1, missing=None, n_estimators=100, n_jobs=1,\n",
       "              nthread=None, objective='binary:logistic', random_state=0,\n",
       "              reg_alpha=0, reg_lambda=1, scale_pos_weight=2, seed=None,\n",
       "              silent=None, subsample=1, verbosity=1)"
      ]
     },
     "execution_count": 102,
     "metadata": {},
     "output_type": "execute_result"
    }
   ],
   "source": [
    "weight_values = [1, 2, 3, 4]\n",
    "cv_scores  = []\n",
    "\n",
    "for weight in weight_values:\n",
    "    print(f\"Testing the validation score for weighting of: {weight}\")\n",
    "    pipe.steps[1][1].set_params(scale_pos_weight=weight)\n",
    "    pipe.fit(X_train, y_train)\n",
    "    y_true = np.where(y_test == 'successful', 1, 0)\n",
    "    y_pred = np.where(pipe.predict(X_test) == 'successful', 1, 0)\n",
    "    val_score = f1_score(y_true, y_pred)\n",
    "    print(f\"Validation score: {val_score}\")\n",
    "    cv_scores.append((val_score, weight))\n",
    "    \n",
    "top_score = max(cv_scores)\n",
    "pipe.steps[1][1].set_params(scale_pos_weight=top_score[1])"
   ]
  },
  {
   "cell_type": "code",
   "execution_count": 113,
   "metadata": {
    "slideshow": {
     "slide_type": "slide"
    }
   },
   "outputs": [
    {
     "data": {
      "text/plain": [
       "(355636,)"
      ]
     },
     "execution_count": 113,
     "metadata": {},
     "output_type": "execute_result"
    }
   ],
   "source": [
    "X_train = pd.concat([X_train, X_val])\n",
    "y_train = pd.concat([y_train, y_val])"
   ]
  },
  {
   "cell_type": "code",
   "execution_count": 117,
   "metadata": {
    "slideshow": {
     "slide_type": "slide"
    }
   },
   "outputs": [
    {
     "data": {
      "text/plain": [
       "0.6162648878984536"
      ]
     },
     "execution_count": 117,
     "metadata": {},
     "output_type": "execute_result"
    }
   ],
   "source": [
    "pipe.fit(X_train, y_train)\n",
    "y_true = np.where(y_test == 'successful', 1, 0)\n",
    "y_pred = np.where(pipe.predict(X_test) == 'successful', 1, 0)\n",
    "test_score = f1_score(y_true, y_pred)\n",
    "test_score"
   ]
  },
  {
   "cell_type": "code",
   "execution_count": null,
   "metadata": {},
   "outputs": [],
   "source": []
  }
 ],
 "metadata": {
  "celltoolbar": "Slideshow",
  "kernelspec": {
   "display_name": "Python 3",
   "language": "python",
   "name": "python3"
  },
  "language_info": {
   "codemirror_mode": {
    "name": "ipython",
    "version": 3
   },
   "file_extension": ".py",
   "mimetype": "text/x-python",
   "name": "python",
   "nbconvert_exporter": "python",
   "pygments_lexer": "ipython3",
   "version": "3.7.3"
  }
 },
 "nbformat": 4,
 "nbformat_minor": 4
}

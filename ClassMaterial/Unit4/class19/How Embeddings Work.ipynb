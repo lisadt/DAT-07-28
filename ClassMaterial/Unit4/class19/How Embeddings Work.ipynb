{
 "cells": [
  {
   "cell_type": "code",
   "execution_count": null,
   "metadata": {},
   "outputs": [],
   "source": [
    "# numpy import\n",
    "import numpy as np"
   ]
  },
  {
   "cell_type": "code",
   "execution_count": null,
   "metadata": {},
   "outputs": [],
   "source": [
    "# word embedding:  dictionary that maps word indexes to weights (numbers)\n",
    "embedding = {i: np.random.normal(0, .1, 10) for i in range(10001)}"
   ]
  },
  {
   "cell_type": "code",
   "execution_count": null,
   "metadata": {},
   "outputs": [],
   "source": [
    "# observe what it is\n",
    "embedding"
   ]
  },
  {
   "cell_type": "code",
   "execution_count": null,
   "metadata": {},
   "outputs": [],
   "source": [
    "# sample data sequences\n",
    "sequence1 = [1, 13, 24, 12, 55, 1, 2, 3]\n",
    "sequence2 = [2, 24, 15, 23, 3, 2, 1, 5]"
   ]
  },
  {
   "cell_type": "code",
   "execution_count": null,
   "metadata": {},
   "outputs": [],
   "source": [
    "# sample data point to hold our data\n",
    "dat_point1 = np.zeros((8, 10))"
   ]
  },
  {
   "cell_type": "code",
   "execution_count": null,
   "metadata": {},
   "outputs": [],
   "source": [
    "# empty zeroes\n",
    "dat_point1"
   ]
  },
  {
   "cell_type": "code",
   "execution_count": null,
   "metadata": {},
   "outputs": [],
   "source": [
    "# fill each row with the weight for each corresponding word\n",
    "for idx, val in enumerate(sequence1):\n",
    "    dat_point1[idx] = embedding[val]"
   ]
  },
  {
   "cell_type": "code",
   "execution_count": null,
   "metadata": {},
   "outputs": [],
   "source": [
    "# this is the result that we get\n",
    "dat_point1"
   ]
  },
  {
   "cell_type": "code",
   "execution_count": null,
   "metadata": {},
   "outputs": [],
   "source": [
    "# notice how the word indices match the embedding weights\n",
    "embedding[1]"
   ]
  },
  {
   "cell_type": "code",
   "execution_count": null,
   "metadata": {},
   "outputs": [],
   "source": [
    "# function to \n",
    "def create_word_matrix(sequence, embedding, embedding_dim=10):\n",
    "    data_point = np.zeros((len(sequence), embedding_dim))\n",
    "    for idx, val in enumerate(sequence):\n",
    "        data_point[idx] = embedding[val]\n",
    "        \n",
    "    return data_point"
   ]
  },
  {
   "cell_type": "code",
   "execution_count": null,
   "metadata": {},
   "outputs": [],
   "source": [
    "create_word_matrix(sequence1, embedding, 10)"
   ]
  },
  {
   "cell_type": "code",
   "execution_count": null,
   "metadata": {},
   "outputs": [],
   "source": [
    "# wrap up our sequences in a list\n",
    "sequences = [sequence1, sequence2]"
   ]
  },
  {
   "cell_type": "code",
   "execution_count": null,
   "metadata": {},
   "outputs": [],
   "source": [
    "# final matrix to hold our embedding data\n",
    "word_data = np.zeros((2, 8, 10))"
   ]
  },
  {
   "cell_type": "code",
   "execution_count": null,
   "metadata": {},
   "outputs": [],
   "source": [
    "# fill in each row of the dataset with the encoded embedding data\n",
    "for idx, row in enumerate(word_data):\n",
    "    word_data[idx] = create_word_matrix(sequences[idx], embedding)"
   ]
  },
  {
   "cell_type": "code",
   "execution_count": null,
   "metadata": {},
   "outputs": [],
   "source": [
    "# this is what a single data point would look like\n",
    "word_data[0]"
   ]
  }
 ],
 "metadata": {
  "kernelspec": {
   "display_name": "Python 3",
   "language": "python",
   "name": "python3"
  },
  "language_info": {
   "codemirror_mode": {
    "name": "ipython",
    "version": 3
   },
   "file_extension": ".py",
   "mimetype": "text/x-python",
   "name": "python",
   "nbconvert_exporter": "python",
   "pygments_lexer": "ipython3",
   "version": "3.7.3"
  }
 },
 "nbformat": 4,
 "nbformat_minor": 4
}

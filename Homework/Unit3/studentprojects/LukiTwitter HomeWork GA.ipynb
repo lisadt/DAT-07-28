{
 "cells": [
  {
   "cell_type": "code",
   "execution_count": 7,
   "metadata": {},
   "outputs": [],
   "source": [
    "# configs for twitter homework.\n",
    "\n",
    "import requests\n",
    "from requests_oauthlib import OAuth1\n",
    "import pandas as pd\n",
    "\n",
    "#replace with your own personal twitter API keys\n",
    "auth = OAuth1('yRFD3WsOMN80LbeY3ugWxpduM', 'cuxQuVFpfFhIBcwNN9KPk3Qz3bOxH48ZRJJNFOTD91jeiyfX6W', '1288869541515350017-57MZSQRwrCSQ3XcZsbwKe1pGWg0Vcq', '8qnWLDyFTnn7oyUJ7Xo8NvuGKFRoM8waoLeg9bRKI3zso')\n",
    "\n",
    "#API endpoint and search string for functions find_user, get_followers\n",
    "\n",
    "\n",
    "#user is a string field relating to twitter usernames, keys are none by default but can be set to extract specific fields\n",
    "#for example ['name', 'followers_count']\n",
    "\n",
    "def find_user(user, keys=None):\n",
    "    user_base_url = 'https://api.twitter.com/1.1/users/lookup.json'\n",
    "    user_search = '?screen_name='\n",
    "    results = requests.get(user_base_url + user_search + user.replace('@', ''), auth=auth).json()[0]\n",
    "\n",
    "    if keys != None:\n",
    "        reduced_results = {}\n",
    "        for key in keys:\n",
    "            reduced_results[key] = results[key]\n",
    "        return reduced_results\n",
    "\n",
    "    else:\n",
    "        return results\n",
    "\n",
    "#test prompts for get_followers function to be used for testing\n",
    "# find_user('@GA', keys=['name', 'screen_name', 'followers_count', 'friends_count'])\n",
    "# find_user('@GA')\n",
    "\n",
    "#screen_name is a string field relating to twitter usernames, as above keys are defaulted to None, to_df is also\n",
    "#set to False by default, toggling to True will return results in a pd DataFrame.\n",
    "\n"
   ]
  },
  {
   "cell_type": "code",
   "execution_count": 10,
   "metadata": {},
   "outputs": [
    {
     "data": {
      "text/plain": [
       "{'name': 'General Assembly',\n",
       " 'screen_name': 'GA',\n",
       " 'followers_count': 165481,\n",
       " 'friends_count': 5416}"
      ]
     },
     "execution_count": 10,
     "metadata": {},
     "output_type": "execute_result"
    }
   ],
   "source": [
    "find_user('GA', keys=['name', 'screen_name', 'followers_count', 'friends_count'])"
   ]
  },
  {
   "cell_type": "code",
   "execution_count": 17,
   "metadata": {},
   "outputs": [
    {
     "ename": "TypeError",
     "evalue": "find_hashtag() got an unexpected keyword argument 'result_type'",
     "output_type": "error",
     "traceback": [
      "\u001b[0;31m---------------------------------------------------------------------------\u001b[0m",
      "\u001b[0;31mTypeError\u001b[0m                                 Traceback (most recent call last)",
      "\u001b[0;32m<ipython-input-17-22910696edc8>\u001b[0m in \u001b[0;36m<module>\u001b[0;34m\u001b[0m\n\u001b[1;32m     12\u001b[0m \u001b[0;34m\u001b[0m\u001b[0m\n\u001b[1;32m     13\u001b[0m     \u001b[0msearch_results\u001b[0m \u001b[0;34m=\u001b[0m \u001b[0mrequests\u001b[0m\u001b[0;34m.\u001b[0m\u001b[0mget\u001b[0m\u001b[0;34m(\u001b[0m\u001b[0mbase_url\u001b[0m \u001b[0;34m+\u001b[0m \u001b[0mtweets\u001b[0m \u001b[0;34m+\u001b[0m \u001b[0mcount\u001b[0m \u001b[0;34m+\u001b[0m \u001b[0mresult_type\u001b[0m \u001b[0;34m+\u001b[0m \u001b[0mtweets\u001b[0m\u001b[0;34m.\u001b[0m\u001b[0mreplace\u001b[0m\u001b[0;34m(\u001b[0m\u001b[0;34m'#'\u001b[0m\u001b[0;34m,\u001b[0m\u001b[0;34m''\u001b[0m\u001b[0;34m)\u001b[0m\u001b[0;34m,\u001b[0m \u001b[0mauth\u001b[0m\u001b[0;34m=\u001b[0m\u001b[0mauth\u001b[0m\u001b[0;34m)\u001b[0m\u001b[0;34m.\u001b[0m\u001b[0mjson\u001b[0m\u001b[0;34m(\u001b[0m\u001b[0;34m)\u001b[0m\u001b[0;34m\u001b[0m\u001b[0;34m\u001b[0m\u001b[0m\n\u001b[0;32m---> 14\u001b[0;31m \u001b[0mfind_hashtag\u001b[0m\u001b[0;34m(\u001b[0m\u001b[0;34m'DataScience'\u001b[0m\u001b[0;34m,\u001b[0m \u001b[0mcount\u001b[0m\u001b[0;34m=\u001b[0m\u001b[0;34m'100'\u001b[0m\u001b[0;34m,\u001b[0m \u001b[0mresult_type\u001b[0m\u001b[0;34m=\u001b[0m\u001b[0;34m'mixed'\u001b[0m\u001b[0;34m)\u001b[0m\u001b[0;34m\u001b[0m\u001b[0;34m\u001b[0m\u001b[0m\n\u001b[0m\u001b[1;32m     15\u001b[0m \u001b[0;34m\u001b[0m\u001b[0m\n",
      "\u001b[0;31mTypeError\u001b[0m: find_hashtag() got an unexpected keyword argument 'result_type'"
     ]
    }
   ],
   "source": [
    "import requests\n",
    "from requests_oauthlib import OAuth1\n",
    "\n",
    "auth = OAuth1('yRFD3WsOMN80LbeY3ugWxpduM', 'cuxQuVFpfFhIBcwNN9KPk3Qz3bOxH48ZRJJNFOTD91jeiyfX6W', '1288869541515350017-57MZSQRwrCSQ3XcZsbwKe1pGWg0Vcq', '8qnWLDyFTnn7oyUJ7Xo8NvuGKFRoM8waoLeg9bRKI3zso')\n",
    "\n",
    "def find_hashtag(hashtag, count=None, search_type=None):\n",
    "    \n",
    "    base_url = 'https://api.twitter.com/1.1/search/tweets.json'\n",
    "    tweets = '?qtext=' + text\n",
    "    count = '&count='+ str(count)\n",
    "    search_type = '&result_type=' + result_type\n",
    "\n",
    "    search_results = requests.get(base_url + tweets + count + result_type + tweets.replace('#',''), auth=auth).json()\n",
    "find_hashtag('DataScience', count='100', result_type ='mixed')\n",
    "    "
   ]
  },
  {
   "cell_type": "code",
   "execution_count": 20,
   "metadata": {},
   "outputs": [
    {
     "data": {
      "text/plain": [
       "{'errors': [{'code': 25, 'message': 'Query parameters are missing.'}]}"
      ]
     },
     "execution_count": 20,
     "metadata": {},
     "output_type": "execute_result"
    }
   ],
   "source": [
    "import requests\n",
    "from requests_oauthlib import OAuth1\n",
    "base_url = 'https://api.twitter.com/1.1/search/tweets.json'\n",
    "# tweets = '?qtext='\n",
    "# count = '&count='\n",
    "# result_type = '&result_type='\n",
    "auth = OAuth1('yRFD3WsOMN80LbeY3ugWxpduM', 'cuxQuVFpfFhIBcwNN9KPk3Qz3bOxH48ZRJJNFOTD91jeiyfX6W', '1288869541515350017-57MZSQRwrCSQ3XcZsbwKe1pGWg0Vcq', '8qnWLDyFTnn7oyUJ7Xo8NvuGKFRoM8waoLeg9bRKI3zso')\n",
    "def find_hashtag(hashtag, count=None, result_type=None):\n",
    "    #creating a tweet variable from the hashtag input, replacing hash with ''\n",
    "    clean_hashtag = hashtag.replace('#','')\n",
    "    tweets = '?qtext=%23' + f\"{clean_hashtag}\"\n",
    "    #creating a count variable for count input and converting to a stringt\n",
    "    if count !=None:\n",
    "        count = '&count=' + str(f\"{count}\")\n",
    "    #creating a result_type variable        \n",
    "    if result_type !=None:\n",
    "        result_type = 'result_type=' + f\"{result_type}\"\n",
    "    #results from API endpoint, currently not configured for count and result_type\n",
    "    search_results = requests.get(base_url + tweets, auth=auth).json()\n",
    "    return search_results    \n",
    "#     if keys != None:\n",
    "#         reduced_results_list = []\n",
    "#         for result in search_results:\n",
    "#             new_user_dict = {}\n",
    "#             for key in keys:\n",
    "#                 new_user_dict[key] = result[key]\n",
    "#                 reduced_results_list.append(new_user_dict)\n",
    "find_hashtag('#DataScience')"
   ]
  },
  {
   "cell_type": "code",
   "execution_count": 8,
   "metadata": {},
   "outputs": [],
   "source": [
    "#\n",
    "def get_followers(screen_name, keys=None, to_df=False):\n",
    "    base_url = 'https://api.twitter.com/1.1/account/verify_credentials.json'\n",
    "    user_base_url = 'https://api.twitter.com/1.1/users/lookup.json'\n",
    "    user_search = '?screen_name='\n",
    "    results = requests.get(user_base_url + user_search + screen_name.replace('@', ''), auth=auth).json()[0]\n",
    "\n",
    "    if keys != None:\n",
    "        reduced_results = {}\n",
    "        for key in keys:\n",
    "            reduced_results[key] = results[key]\n",
    "        if to_df == True:\n",
    "            df = pd.DataFrame(reduced_results, index=[0])  # setting index as 0 as pandas is enforcing an index\n",
    "            return df\n",
    "        else:\n",
    "            return reduced_results\n",
    "\n",
    "    else:\n",
    "        if to_df == True:\n",
    "            df = pd.DataFrame(results, index=[0])  # setting index as 0 as pandas is enforcing an index\n",
    "            return df\n",
    "        else:\n",
    "            return results\n",
    "\n",
    "#test prompts for get_followers function to be used for testing\n",
    "# get_followers('@GA', keys=['name', 'screen_name', 'followers_count', 'friends_count'], to_df=True)\n",
    "# get_followers('@GA')\n",
    "# get_followers('GA')\n",
    "# get_followers('GA', keys=['name', 'followers_count'])\n",
    "# get_followers('GA', keys=['name', 'followers_count'], to_df=True)\n",
    "# get_followers('GA', to_df=True)"
   ]
  },
  {
   "cell_type": "code",
   "execution_count": 6,
   "metadata": {},
   "outputs": [
    {
     "data": {
      "text/plain": [
       "{'id': 170393291,\n",
       " 'id_str': '170393291',\n",
       " 'name': 'General Assembly',\n",
       " 'screen_name': 'GA',\n",
       " 'location': '',\n",
       " 'description': 'We transform careers and teams — including more than one third of the Fortune 100 — through dynamic courses in coding, data, design, and business.',\n",
       " 'url': 'https://t.co/YQeEXPxJ4H',\n",
       " 'entities': {'url': {'urls': [{'url': 'https://t.co/YQeEXPxJ4H',\n",
       "     'expanded_url': 'http://ga.co/Twitter',\n",
       "     'display_url': 'ga.co/Twitter',\n",
       "     'indices': [0, 23]}]},\n",
       "  'description': {'urls': []}},\n",
       " 'protected': False,\n",
       " 'followers_count': 165483,\n",
       " 'friends_count': 5416,\n",
       " 'listed_count': 3264,\n",
       " 'created_at': 'Sat Jul 24 18:19:59 +0000 2010',\n",
       " 'favourites_count': 36413,\n",
       " 'utc_offset': None,\n",
       " 'time_zone': None,\n",
       " 'geo_enabled': True,\n",
       " 'verified': True,\n",
       " 'statuses_count': 22762,\n",
       " 'lang': None,\n",
       " 'status': {'created_at': 'Tue Aug 11 16:38:11 +0000 2020',\n",
       "  'id': 1293225209907032066,\n",
       "  'id_str': '1293225209907032066',\n",
       "  'text': \"Today marks a new chapter in General Assembly's story. After leading GA for 10 years and transforming thousands of… https://t.co/U5CswsTfMR\",\n",
       "  'truncated': True,\n",
       "  'entities': {'hashtags': [],\n",
       "   'symbols': [],\n",
       "   'user_mentions': [],\n",
       "   'urls': [{'url': 'https://t.co/U5CswsTfMR',\n",
       "     'expanded_url': 'https://twitter.com/i/web/status/1293225209907032066',\n",
       "     'display_url': 'twitter.com/i/web/status/1…',\n",
       "     'indices': [116, 139]}]},\n",
       "  'source': '<a href=\"https://mobile.twitter.com\" rel=\"nofollow\">Twitter Web App</a>',\n",
       "  'in_reply_to_status_id': None,\n",
       "  'in_reply_to_status_id_str': None,\n",
       "  'in_reply_to_user_id': None,\n",
       "  'in_reply_to_user_id_str': None,\n",
       "  'in_reply_to_screen_name': None,\n",
       "  'geo': None,\n",
       "  'coordinates': None,\n",
       "  'place': None,\n",
       "  'contributors': None,\n",
       "  'is_quote_status': False,\n",
       "  'retweet_count': 0,\n",
       "  'favorite_count': 1,\n",
       "  'favorited': False,\n",
       "  'retweeted': False,\n",
       "  'possibly_sensitive': False,\n",
       "  'lang': 'en'},\n",
       " 'contributors_enabled': False,\n",
       " 'is_translator': False,\n",
       " 'is_translation_enabled': False,\n",
       " 'profile_background_color': 'FFFFFF',\n",
       " 'profile_background_image_url': 'http://abs.twimg.com/images/themes/theme1/bg.png',\n",
       " 'profile_background_image_url_https': 'https://abs.twimg.com/images/themes/theme1/bg.png',\n",
       " 'profile_background_tile': True,\n",
       " 'profile_image_url': 'http://pbs.twimg.com/profile_images/1267818300416745472/A3qO4Fer_normal.jpg',\n",
       " 'profile_image_url_https': 'https://pbs.twimg.com/profile_images/1267818300416745472/A3qO4Fer_normal.jpg',\n",
       " 'profile_banner_url': 'https://pbs.twimg.com/profile_banners/170393291/1480618900',\n",
       " 'profile_link_color': 'DE2233',\n",
       " 'profile_sidebar_border_color': 'FFFFFF',\n",
       " 'profile_sidebar_fill_color': 'FFFFFF',\n",
       " 'profile_text_color': '000000',\n",
       " 'profile_use_background_image': True,\n",
       " 'has_extended_profile': False,\n",
       " 'default_profile': False,\n",
       " 'default_profile_image': False,\n",
       " 'following': False,\n",
       " 'follow_request_sent': False,\n",
       " 'notifications': False,\n",
       " 'translator_type': 'none'}"
      ]
     },
     "execution_count": 6,
     "metadata": {},
     "output_type": "execute_result"
    }
   ],
   "source": [
    "get_followers('GA')"
   ]
  },
  {
   "cell_type": "code",
   "execution_count": null,
   "metadata": {},
   "outputs": [],
   "source": []
  }
 ],
 "metadata": {
  "kernelspec": {
   "display_name": "Python 3",
   "language": "python",
   "name": "python3"
  },
  "language_info": {
   "codemirror_mode": {
    "name": "ipython",
    "version": 3
   },
   "file_extension": ".py",
   "mimetype": "text/x-python",
   "name": "python",
   "nbconvert_exporter": "python",
   "pygments_lexer": "ipython3",
   "version": "3.7.3"
  }
 },
 "nbformat": 4,
 "nbformat_minor": 4
}
